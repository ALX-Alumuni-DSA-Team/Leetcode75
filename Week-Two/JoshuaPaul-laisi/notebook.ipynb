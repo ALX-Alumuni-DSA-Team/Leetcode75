# ===============================
# QUESTION 1: Reverse Words in a String
# ===============================

def reverse_words(s: str) -> str:
    """
    Reverses the order of words in a given string `s`.

    Args:
    s (str): The input string containing words separated by spaces.

    Returns:
    str: A new string with the words in reverse order and only a single space separating words.
    
    Example:
    Input: s = "the sky is blue"
    Output: "blue is sky the"
    """
    return ' '.join(s.split()[::-1])


# Example usage
s = "the sky is blue"
print(reverse_words(s))  # Output: "blue is sky the"

s = "  hello world  "
print(reverse_words(s))  # Output: "world hello"

s = "a good   example"
print(reverse_words(s))  # Output: "example good a"



# ================================
# QUESTION 2: Product of Array Except Self
# ================================

def product_except_self(nums: list[int]) -> list[int]:
    """
    Returns an array such that each element at index `i` is the product of all elements of `nums` except `nums[i]`.

    Args:
    nums (list[int]): A list of integers.

    Returns:
    list[int]: A list where each element is the product of all elements except itself.

    Example:
    Input: nums = [1, 2, 3, 4]
    Output: [24, 12, 8, 6]
    """
    n = len(nums)
    result = [1] * n
    
    # Calculate left products
    left = 1
    for i in range(n):
        result[i] = left
        left *= nums[i]
    
    # Calculate right products
    right = 1
    for i in range(n - 1, -1, -1):
        result[i] *= right
        right *= nums[i]

    return result


# Example usage
nums = [1, 2, 3, 4]
print(product_except_self(nums))  # Output: [24, 12, 8, 6]

nums = [-1, 1, 0, -3, 3]
print(product_except_self(nums))  # Output: [0, 0, 9, 0, 0]



# ================================
# QUESTION 3: Increasing Triplet Subsequence
# ================================

def increasing_triplet(nums: list[int]) -> bool:
    """
    Determines if there exists a triplet (i, j, k) such that i < j < k and nums[i] < nums[j] < nums[k].

    Args:
    nums (list[int]): A list of integers.

    Returns:
    bool: True if such a triplet exists, False otherwise.

    Example:
    Input: nums = [1, 2, 3, 4, 5]
    Output: True
    """
    first = second = float('inf')
    for num in nums:
        if num <= first:
            first = num
        elif num <= second:
            second = num
        else:
            return True
    return False


# Example usage
nums = [1, 2, 3, 4, 5]
print(increasing_triplet(nums))  # Output: True

nums = [5, 4, 3, 2, 1]
print(increasing_triplet(nums))  # Output: False

nums = [2, 1, 5, 0, 4, 6]
print(increasing_triplet(nums))  # Output: True



# ================================
# QUESTION 4: String Compression
# ================================

def compress(chars: list[str]) -> int:
    """
    Compresses the input list of characters `chars` in place.

    Args:
    chars (list[str]): A list of characters.

    Returns:
    int: The new length of the compressed array.

    Example:
    Input: chars = ["a","a","b","b","c","c","c"]
    Output: Return 6, and the first 6 characters of the input array should be: ["a","2","b","2","c","3"]
    """
    index = 0  # Index for where to place the compressed result
    i = 0  # Pointer to traverse the chars array
    
    while i < len(chars):
        char = chars[i]
        count = 0
        
        # Count how many of the same character we have
        while i < len(chars) and chars[i] == char:
            count += 1
            i += 1
        
        # Place the character in the compressed array
        chars[index] = char
        index += 1
        
        # If count is greater than 1, place the count as well
        if count > 1:
            for c in str(count):
                chars[index] = c
                index += 1

    return index


# Example usage
chars = ["a", "a", "b", "b", "c", "c", "c"]
length = compress(chars)
print(length, chars[:length])  # Output: 6 ['a', '2', 'b', '2', 'c', '3']

chars = ["a"]
length = compress(chars)
print(length, chars[:length])  # Output: 1 ['a']

chars = ["a", "b", "b", "b", "b", "b", "b", "b", "b", "b", "b", "b", "b"]
length = compress(chars)
print(length, chars[:length])  # Output: 4 ['a', 'b', '1', '2']



# ================================
# QUESTION 5: Move Zeroes
# ================================

def move_zeroes(nums: list[int]) -> None:
    """
    Moves all zeroes in the input list `nums` to the end, while maintaining the relative order of non-zero elements.

    Args:
    nums (list[int]): A list of integers.

    Returns:
    None: The function modifies the list `nums` in place.
    
    Example:
    Input: nums = [0, 1, 0, 3, 12]
    Output: [1, 3, 12, 0, 0]
    """
    last_non_zero = 0

    # Move all non-zero elements to the front
    for i in range(len(nums)):
        if nums[i] != 0:
            nums[last_non_zero] = nums[i]
            last_non_zero += 1
    
    # Fill the remaining positions with zeroes
    for i in range(last_non_zero, len(nums)):
        nums[i] = 0


# Example usage
nums = [0, 1, 0, 3, 12]
move_zeroes(nums)
print(nums)  # Output: [1, 3, 12, 0, 0]

nums = [0]
move_zeroes(nums)
print(nums)  # Output: [0]
